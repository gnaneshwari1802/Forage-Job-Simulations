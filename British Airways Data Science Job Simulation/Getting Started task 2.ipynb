{
 "cells": [
  {
   "cell_type": "markdown",
   "metadata": {},
   "source": [
    "# Task 2\n",
    "\n",
    "---\n",
    "\n",
    "## Predictive modeling of customer bookings\n",
    "\n",
    "This Jupyter notebook includes some code to get you started with this predictive modeling task. We will use various packages for data manipulation, feature engineering and machine learning.\n",
    "\n",
    "### Exploratory data analysis\n",
    "\n",
    "First, we must explore the data in order to better understand what we have and the statistical properties of the dataset."
   ]
  },
  {
   "cell_type": "code",
   "execution_count": 53,
   "metadata": {},
   "outputs": [],
   "source": [
    "%matplotlib inline\n",
    "\n",
    "import pandas as pd\n",
    "import numpy as np\n",
    "import matplotlib.pyplot as plt\n",
    "import seaborn as sns\n",
    "\n",
    "import warnings\n",
    "warnings.filterwarnings(\"ignore\")"
   ]
  },
  {
   "cell_type": "code",
   "execution_count": 54,
   "metadata": {},
   "outputs": [],
   "source": [
    "import pandas as pd"
   ]
  },
  {
   "cell_type": "code",
   "execution_count": 55,
   "metadata": {},
   "outputs": [],
   "source": [
    "# df = pd.read_csv(\"C:\\Users\\Gnaneshwari\\Desktop\\British Airways Data Science Job Simulation\\customer_booking.csv\", encoding=\"ISO-8859-1\")\n",
    "# df.head()"
   ]
  },
  {
   "cell_type": "code",
   "execution_count": 56,
   "metadata": {},
   "outputs": [],
   "source": [
    "\n",
    "# data= '/customer_booking.csv'\n",
    "# #"
   ]
  },
  {
   "cell_type": "code",
   "execution_count": 57,
   "metadata": {},
   "outputs": [
    {
     "data": {
      "text/html": [
       "<div>\n",
       "<style scoped>\n",
       "    .dataframe tbody tr th:only-of-type {\n",
       "        vertical-align: middle;\n",
       "    }\n",
       "\n",
       "    .dataframe tbody tr th {\n",
       "        vertical-align: top;\n",
       "    }\n",
       "\n",
       "    .dataframe thead th {\n",
       "        text-align: right;\n",
       "    }\n",
       "</style>\n",
       "<table border=\"1\" class=\"dataframe\">\n",
       "  <thead>\n",
       "    <tr style=\"text-align: right;\">\n",
       "      <th></th>\n",
       "      <th>num_passengers</th>\n",
       "      <th>sales_channel</th>\n",
       "      <th>trip_type</th>\n",
       "      <th>purchase_lead</th>\n",
       "      <th>length_of_stay</th>\n",
       "      <th>flight_hour</th>\n",
       "      <th>flight_day</th>\n",
       "      <th>route</th>\n",
       "      <th>booking_origin</th>\n",
       "      <th>wants_extra_baggage</th>\n",
       "      <th>wants_preferred_seat</th>\n",
       "      <th>wants_in_flight_meals</th>\n",
       "      <th>flight_duration</th>\n",
       "      <th>booking_complete</th>\n",
       "    </tr>\n",
       "  </thead>\n",
       "  <tbody>\n",
       "    <tr>\n",
       "      <th>0</th>\n",
       "      <td>2</td>\n",
       "      <td>Internet</td>\n",
       "      <td>RoundTrip</td>\n",
       "      <td>262</td>\n",
       "      <td>19</td>\n",
       "      <td>7</td>\n",
       "      <td>Sat</td>\n",
       "      <td>AKLDEL</td>\n",
       "      <td>New Zealand</td>\n",
       "      <td>1</td>\n",
       "      <td>0</td>\n",
       "      <td>0</td>\n",
       "      <td>5.52</td>\n",
       "      <td>0</td>\n",
       "    </tr>\n",
       "    <tr>\n",
       "      <th>1</th>\n",
       "      <td>1</td>\n",
       "      <td>Internet</td>\n",
       "      <td>RoundTrip</td>\n",
       "      <td>112</td>\n",
       "      <td>20</td>\n",
       "      <td>3</td>\n",
       "      <td>Sat</td>\n",
       "      <td>AKLDEL</td>\n",
       "      <td>New Zealand</td>\n",
       "      <td>0</td>\n",
       "      <td>0</td>\n",
       "      <td>0</td>\n",
       "      <td>5.52</td>\n",
       "      <td>0</td>\n",
       "    </tr>\n",
       "    <tr>\n",
       "      <th>2</th>\n",
       "      <td>2</td>\n",
       "      <td>Internet</td>\n",
       "      <td>RoundTrip</td>\n",
       "      <td>243</td>\n",
       "      <td>22</td>\n",
       "      <td>17</td>\n",
       "      <td>Wed</td>\n",
       "      <td>AKLDEL</td>\n",
       "      <td>India</td>\n",
       "      <td>1</td>\n",
       "      <td>1</td>\n",
       "      <td>0</td>\n",
       "      <td>5.52</td>\n",
       "      <td>0</td>\n",
       "    </tr>\n",
       "    <tr>\n",
       "      <th>3</th>\n",
       "      <td>1</td>\n",
       "      <td>Internet</td>\n",
       "      <td>RoundTrip</td>\n",
       "      <td>96</td>\n",
       "      <td>31</td>\n",
       "      <td>4</td>\n",
       "      <td>Sat</td>\n",
       "      <td>AKLDEL</td>\n",
       "      <td>New Zealand</td>\n",
       "      <td>0</td>\n",
       "      <td>0</td>\n",
       "      <td>1</td>\n",
       "      <td>5.52</td>\n",
       "      <td>0</td>\n",
       "    </tr>\n",
       "    <tr>\n",
       "      <th>4</th>\n",
       "      <td>2</td>\n",
       "      <td>Internet</td>\n",
       "      <td>RoundTrip</td>\n",
       "      <td>68</td>\n",
       "      <td>22</td>\n",
       "      <td>15</td>\n",
       "      <td>Wed</td>\n",
       "      <td>AKLDEL</td>\n",
       "      <td>India</td>\n",
       "      <td>1</td>\n",
       "      <td>0</td>\n",
       "      <td>1</td>\n",
       "      <td>5.52</td>\n",
       "      <td>0</td>\n",
       "    </tr>\n",
       "  </tbody>\n",
       "</table>\n",
       "</div>"
      ],
      "text/plain": [
       "   num_passengers sales_channel  trip_type  purchase_lead  length_of_stay  \\\n",
       "0               2      Internet  RoundTrip            262              19   \n",
       "1               1      Internet  RoundTrip            112              20   \n",
       "2               2      Internet  RoundTrip            243              22   \n",
       "3               1      Internet  RoundTrip             96              31   \n",
       "4               2      Internet  RoundTrip             68              22   \n",
       "\n",
       "   flight_hour flight_day   route booking_origin  wants_extra_baggage  \\\n",
       "0            7        Sat  AKLDEL    New Zealand                    1   \n",
       "1            3        Sat  AKLDEL    New Zealand                    0   \n",
       "2           17        Wed  AKLDEL          India                    1   \n",
       "3            4        Sat  AKLDEL    New Zealand                    0   \n",
       "4           15        Wed  AKLDEL          India                    1   \n",
       "\n",
       "   wants_preferred_seat  wants_in_flight_meals  flight_duration  \\\n",
       "0                     0                      0             5.52   \n",
       "1                     0                      0             5.52   \n",
       "2                     1                      0             5.52   \n",
       "3                     0                      1             5.52   \n",
       "4                     0                      1             5.52   \n",
       "\n",
       "   booking_complete  \n",
       "0                 0  \n",
       "1                 0  \n",
       "2                 0  \n",
       "3                 0  \n",
       "4                 0  "
      ]
     },
     "execution_count": 57,
     "metadata": {},
     "output_type": "execute_result"
    }
   ],
   "source": [
    "df = pd.read_csv(r\"C:\\Users\\Gnaneshwari\\Desktop\\British Airways Data Science Job Simulation\\customer_booking.csv\", encoding='ISO-8859-1')\n",
    "df.head()"
   ]
  },
  {
   "cell_type": "markdown",
   "metadata": {},
   "source": [
    "The `.head()` method allows us to view the first 5 rows in the dataset, this is useful for visual inspection of our columns"
   ]
  },
  {
   "cell_type": "code",
   "execution_count": 58,
   "metadata": {},
   "outputs": [
    {
     "name": "stdout",
     "output_type": "stream",
     "text": [
      "<class 'pandas.core.frame.DataFrame'>\n",
      "RangeIndex: 50000 entries, 0 to 49999\n",
      "Data columns (total 14 columns):\n",
      " #   Column                 Non-Null Count  Dtype  \n",
      "---  ------                 --------------  -----  \n",
      " 0   num_passengers         50000 non-null  int64  \n",
      " 1   sales_channel          50000 non-null  object \n",
      " 2   trip_type              50000 non-null  object \n",
      " 3   purchase_lead          50000 non-null  int64  \n",
      " 4   length_of_stay         50000 non-null  int64  \n",
      " 5   flight_hour            50000 non-null  int64  \n",
      " 6   flight_day             50000 non-null  object \n",
      " 7   route                  50000 non-null  object \n",
      " 8   booking_origin         50000 non-null  object \n",
      " 9   wants_extra_baggage    50000 non-null  int64  \n",
      " 10  wants_preferred_seat   50000 non-null  int64  \n",
      " 11  wants_in_flight_meals  50000 non-null  int64  \n",
      " 12  flight_duration        50000 non-null  float64\n",
      " 13  booking_complete       50000 non-null  int64  \n",
      "dtypes: float64(1), int64(8), object(5)\n",
      "memory usage: 5.3+ MB\n"
     ]
    }
   ],
   "source": [
    "df.info()"
   ]
  },
  {
   "cell_type": "markdown",
   "metadata": {},
   "source": [
    "The `.info()` method gives us a data description, telling us the names of the columns, their data types and how many null values we have. Fortunately, we have no null values. It looks like some of these columns should be converted into different data types, e.g. flight_day.\n",
    "\n",
    "To provide more context, below is a more detailed data description, explaining exactly what each column means:\n",
    "\n",
    "- `num_passengers` = number of passengers travelling\n",
    "- `sales_channel` = sales channel booking was made on\n",
    "- `trip_type` = trip Type (Round Trip, One Way, Circle Trip)\n",
    "- `purchase_lead` = number of days between travel date and booking date\n",
    "- `length_of_stay` = number of days spent at destination\n",
    "- `flight_hour` = hour of flight departure\n",
    "- `flight_day` = day of week of flight departure\n",
    "- `route` = origin -> destination flight route\n",
    "- `booking_origin` = country from where booking was made\n",
    "- `wants_extra_baggage` = if the customer wanted extra baggage in the booking\n",
    "- `wants_preferred_seat` = if the customer wanted a preferred seat in the booking\n",
    "- `wants_in_flight_meals` = if the customer wanted in-flight meals in the booking\n",
    "- `flight_duration` = total duration of flight (in hours)\n",
    "- `booking_complete` = flag indicating if the customer completed the booking\n",
    "\n",
    "Before we compute any statistics on the data, lets do any necessary data conversion"
   ]
  },
  {
   "cell_type": "code",
   "execution_count": 59,
   "metadata": {},
   "outputs": [
    {
     "data": {
      "text/plain": [
       "array(['Sat', 'Wed', 'Thu', 'Mon', 'Sun', 'Tue', 'Fri'], dtype=object)"
      ]
     },
     "execution_count": 59,
     "metadata": {},
     "output_type": "execute_result"
    }
   ],
   "source": [
    "df[\"flight_day\"].unique()"
   ]
  },
  {
   "cell_type": "code",
   "execution_count": 60,
   "metadata": {},
   "outputs": [],
   "source": [
    "mapping = {\n",
    "    \"Mon\": 1,\n",
    "    \"Tue\": 2,\n",
    "    \"Wed\": 3,\n",
    "    \"Thu\": 4,\n",
    "    \"Fri\": 5,\n",
    "    \"Sat\": 6,\n",
    "    \"Sun\": 7,\n",
    "}\n",
    "\n",
    "df[\"flight_day\"] = df[\"flight_day\"].map(mapping)"
   ]
  },
  {
   "cell_type": "code",
   "execution_count": 61,
   "metadata": {},
   "outputs": [
    {
     "data": {
      "text/plain": [
       "array([6, 3, 4, 1, 7, 2, 5], dtype=int64)"
      ]
     },
     "execution_count": 61,
     "metadata": {},
     "output_type": "execute_result"
    }
   ],
   "source": [
    "df[\"flight_day\"].unique()"
   ]
  },
  {
   "cell_type": "code",
   "execution_count": 62,
   "metadata": {},
   "outputs": [
    {
     "data": {
      "text/html": [
       "<div>\n",
       "<style scoped>\n",
       "    .dataframe tbody tr th:only-of-type {\n",
       "        vertical-align: middle;\n",
       "    }\n",
       "\n",
       "    .dataframe tbody tr th {\n",
       "        vertical-align: top;\n",
       "    }\n",
       "\n",
       "    .dataframe thead th {\n",
       "        text-align: right;\n",
       "    }\n",
       "</style>\n",
       "<table border=\"1\" class=\"dataframe\">\n",
       "  <thead>\n",
       "    <tr style=\"text-align: right;\">\n",
       "      <th></th>\n",
       "      <th>num_passengers</th>\n",
       "      <th>purchase_lead</th>\n",
       "      <th>length_of_stay</th>\n",
       "      <th>flight_hour</th>\n",
       "      <th>flight_day</th>\n",
       "      <th>wants_extra_baggage</th>\n",
       "      <th>wants_preferred_seat</th>\n",
       "      <th>wants_in_flight_meals</th>\n",
       "      <th>flight_duration</th>\n",
       "      <th>booking_complete</th>\n",
       "    </tr>\n",
       "  </thead>\n",
       "  <tbody>\n",
       "    <tr>\n",
       "      <th>count</th>\n",
       "      <td>50000.000000</td>\n",
       "      <td>50000.000000</td>\n",
       "      <td>50000.00000</td>\n",
       "      <td>50000.00000</td>\n",
       "      <td>50000.000000</td>\n",
       "      <td>50000.000000</td>\n",
       "      <td>50000.000000</td>\n",
       "      <td>50000.000000</td>\n",
       "      <td>50000.000000</td>\n",
       "      <td>50000.000000</td>\n",
       "    </tr>\n",
       "    <tr>\n",
       "      <th>mean</th>\n",
       "      <td>1.591240</td>\n",
       "      <td>84.940480</td>\n",
       "      <td>23.04456</td>\n",
       "      <td>9.06634</td>\n",
       "      <td>3.814420</td>\n",
       "      <td>0.668780</td>\n",
       "      <td>0.296960</td>\n",
       "      <td>0.427140</td>\n",
       "      <td>7.277561</td>\n",
       "      <td>0.149560</td>\n",
       "    </tr>\n",
       "    <tr>\n",
       "      <th>std</th>\n",
       "      <td>1.020165</td>\n",
       "      <td>90.451378</td>\n",
       "      <td>33.88767</td>\n",
       "      <td>5.41266</td>\n",
       "      <td>1.992792</td>\n",
       "      <td>0.470657</td>\n",
       "      <td>0.456923</td>\n",
       "      <td>0.494668</td>\n",
       "      <td>1.496863</td>\n",
       "      <td>0.356643</td>\n",
       "    </tr>\n",
       "    <tr>\n",
       "      <th>min</th>\n",
       "      <td>1.000000</td>\n",
       "      <td>0.000000</td>\n",
       "      <td>0.00000</td>\n",
       "      <td>0.00000</td>\n",
       "      <td>1.000000</td>\n",
       "      <td>0.000000</td>\n",
       "      <td>0.000000</td>\n",
       "      <td>0.000000</td>\n",
       "      <td>4.670000</td>\n",
       "      <td>0.000000</td>\n",
       "    </tr>\n",
       "    <tr>\n",
       "      <th>25%</th>\n",
       "      <td>1.000000</td>\n",
       "      <td>21.000000</td>\n",
       "      <td>5.00000</td>\n",
       "      <td>5.00000</td>\n",
       "      <td>2.000000</td>\n",
       "      <td>0.000000</td>\n",
       "      <td>0.000000</td>\n",
       "      <td>0.000000</td>\n",
       "      <td>5.620000</td>\n",
       "      <td>0.000000</td>\n",
       "    </tr>\n",
       "    <tr>\n",
       "      <th>50%</th>\n",
       "      <td>1.000000</td>\n",
       "      <td>51.000000</td>\n",
       "      <td>17.00000</td>\n",
       "      <td>9.00000</td>\n",
       "      <td>4.000000</td>\n",
       "      <td>1.000000</td>\n",
       "      <td>0.000000</td>\n",
       "      <td>0.000000</td>\n",
       "      <td>7.570000</td>\n",
       "      <td>0.000000</td>\n",
       "    </tr>\n",
       "    <tr>\n",
       "      <th>75%</th>\n",
       "      <td>2.000000</td>\n",
       "      <td>115.000000</td>\n",
       "      <td>28.00000</td>\n",
       "      <td>13.00000</td>\n",
       "      <td>5.000000</td>\n",
       "      <td>1.000000</td>\n",
       "      <td>1.000000</td>\n",
       "      <td>1.000000</td>\n",
       "      <td>8.830000</td>\n",
       "      <td>0.000000</td>\n",
       "    </tr>\n",
       "    <tr>\n",
       "      <th>max</th>\n",
       "      <td>9.000000</td>\n",
       "      <td>867.000000</td>\n",
       "      <td>778.00000</td>\n",
       "      <td>23.00000</td>\n",
       "      <td>7.000000</td>\n",
       "      <td>1.000000</td>\n",
       "      <td>1.000000</td>\n",
       "      <td>1.000000</td>\n",
       "      <td>9.500000</td>\n",
       "      <td>1.000000</td>\n",
       "    </tr>\n",
       "  </tbody>\n",
       "</table>\n",
       "</div>"
      ],
      "text/plain": [
       "       num_passengers  purchase_lead  length_of_stay  flight_hour  \\\n",
       "count    50000.000000   50000.000000     50000.00000  50000.00000   \n",
       "mean         1.591240      84.940480        23.04456      9.06634   \n",
       "std          1.020165      90.451378        33.88767      5.41266   \n",
       "min          1.000000       0.000000         0.00000      0.00000   \n",
       "25%          1.000000      21.000000         5.00000      5.00000   \n",
       "50%          1.000000      51.000000        17.00000      9.00000   \n",
       "75%          2.000000     115.000000        28.00000     13.00000   \n",
       "max          9.000000     867.000000       778.00000     23.00000   \n",
       "\n",
       "         flight_day  wants_extra_baggage  wants_preferred_seat  \\\n",
       "count  50000.000000         50000.000000          50000.000000   \n",
       "mean       3.814420             0.668780              0.296960   \n",
       "std        1.992792             0.470657              0.456923   \n",
       "min        1.000000             0.000000              0.000000   \n",
       "25%        2.000000             0.000000              0.000000   \n",
       "50%        4.000000             1.000000              0.000000   \n",
       "75%        5.000000             1.000000              1.000000   \n",
       "max        7.000000             1.000000              1.000000   \n",
       "\n",
       "       wants_in_flight_meals  flight_duration  booking_complete  \n",
       "count           50000.000000     50000.000000      50000.000000  \n",
       "mean                0.427140         7.277561          0.149560  \n",
       "std                 0.494668         1.496863          0.356643  \n",
       "min                 0.000000         4.670000          0.000000  \n",
       "25%                 0.000000         5.620000          0.000000  \n",
       "50%                 0.000000         7.570000          0.000000  \n",
       "75%                 1.000000         8.830000          0.000000  \n",
       "max                 1.000000         9.500000          1.000000  "
      ]
     },
     "execution_count": 62,
     "metadata": {},
     "output_type": "execute_result"
    }
   ],
   "source": [
    "df.describe()"
   ]
  },
  {
   "cell_type": "markdown",
   "metadata": {},
   "source": [
    "The `.describe()` method gives us a summary of descriptive statistics over the entire dataset (only works for numeric columns). This gives us a quick overview of a few things such as the mean, min, max and overall distribution of each column.\n",
    "\n",
    "From this point, you should continue exploring the dataset with some visualisations and other metrics that you think may be useful. Then, you should prepare your dataset for predictive modelling. Finally, you should train your machine learning model, evaluate it with performance metrics and output visualisations for the contributing variables. All of this analysis should be summarised in your single slide."
   ]
  },
  {
   "cell_type": "code",
   "execution_count": 63,
   "metadata": {},
   "outputs": [
    {
     "data": {
      "text/plain": [
       "num_passengers           0\n",
       "sales_channel            0\n",
       "trip_type                0\n",
       "purchase_lead            0\n",
       "length_of_stay           0\n",
       "flight_hour              0\n",
       "flight_day               0\n",
       "route                    0\n",
       "booking_origin           0\n",
       "wants_extra_baggage      0\n",
       "wants_preferred_seat     0\n",
       "wants_in_flight_meals    0\n",
       "flight_duration          0\n",
       "booking_complete         0\n",
       "dtype: int64"
      ]
     },
     "execution_count": 63,
     "metadata": {},
     "output_type": "execute_result"
    }
   ],
   "source": [
    "df.isnull().sum()"
   ]
  },
  {
   "cell_type": "code",
   "execution_count": 64,
   "metadata": {},
   "outputs": [
    {
     "data": {
      "text/plain": [
       "booking_complete\n",
       "0    42522\n",
       "1     7478\n",
       "Name: count, dtype: int64"
      ]
     },
     "execution_count": 64,
     "metadata": {},
     "output_type": "execute_result"
    }
   ],
   "source": [
    "\n",
    "df.booking_complete.value_counts()"
   ]
  },
  {
   "cell_type": "markdown",
   "metadata": {},
   "source": [
    "Mutual Information"
   ]
  },
  {
   "cell_type": "code",
   "execution_count": 65,
   "metadata": {},
   "outputs": [],
   "source": [
    "\n",
    "X= df.drop('booking_complete',axis=1)\n",
    "y= df.booking_complete         \n",
    "\n",
    "#changing object dtype to int dtype\n",
    "for colname in X.select_dtypes(\"object\"):\n",
    "    X[colname], _ = X[colname].factorize()"
   ]
  },
  {
   "cell_type": "code",
   "execution_count": 66,
   "metadata": {},
   "outputs": [
    {
     "data": {
      "text/plain": [
       "num_passengers             int64\n",
       "sales_channel              int64\n",
       "trip_type                  int64\n",
       "purchase_lead              int64\n",
       "length_of_stay             int64\n",
       "flight_hour                int64\n",
       "flight_day                 int64\n",
       "route                      int64\n",
       "booking_origin             int64\n",
       "wants_extra_baggage        int64\n",
       "wants_preferred_seat       int64\n",
       "wants_in_flight_meals      int64\n",
       "flight_duration          float64\n",
       "dtype: object"
      ]
     },
     "execution_count": 66,
     "metadata": {},
     "output_type": "execute_result"
    }
   ],
   "source": [
    "X.dtypes"
   ]
  },
  {
   "cell_type": "code",
   "execution_count": 67,
   "metadata": {},
   "outputs": [
    {
     "data": {
      "text/plain": [
       "route                    0.053842\n",
       "booking_origin           0.046027\n",
       "flight_duration          0.019258\n",
       "length_of_stay           0.009733\n",
       "wants_extra_baggage      0.007738\n",
       "wants_preferred_seat     0.005535\n",
       "num_passengers           0.003789\n",
       "wants_in_flight_meals    0.002103\n",
       "flight_hour              0.001684\n",
       "flight_day               0.001661\n",
       "purchase_lead            0.000130\n",
       "sales_channel            0.000000\n",
       "trip_type                0.000000\n",
       "Name: MI Scores, dtype: float64"
      ]
     },
     "execution_count": 67,
     "metadata": {},
     "output_type": "execute_result"
    }
   ],
   "source": [
    "from sklearn.feature_selection import mutual_info_classif\n",
    "\n",
    "mi_scores = mutual_info_classif(X, y)\n",
    "mi_scores = pd.Series(mi_scores, name=\"MI Scores\", index=X.columns)\n",
    "mi_scores = mi_scores.sort_values(ascending=False)\n",
    "\n",
    "mi_scores # show a few features with their MI scores"
   ]
  },
  {
   "cell_type": "code",
   "execution_count": 68,
   "metadata": {},
   "outputs": [
    {
     "data": {
      "image/png": "[encoded data removed]",
      "text/plain": [
       "<Figure size 800x500 with 1 Axes>"
      ]
     },
     "metadata": {},
     "output_type": "display_data"
    }
   ],
   "source": [
    "def plot_mi_scores(scores):\n",
    "    scores = scores.sort_values(ascending=True)\n",
    "    width = np.arange(len(scores))\n",
    "    ticks = list(scores.index)\n",
    "    plt.barh(width, scores)\n",
    "    plt.yticks(width, ticks)\n",
    "    plt.title(\"Mutual Information Scores\")\n",
    "\n",
    "\n",
    "plt.figure(dpi=100, figsize=(8, 5))\n",
    "plot_mi_scores(mi_scores)"
   ]
  },
  {
   "cell_type": "code",
   "execution_count": 69,
   "metadata": {},
   "outputs": [],
   "source": [
    "# sns.jointplot(data=df,x='route',y='')"
   ]
  },
  {
   "cell_type": "markdown",
   "metadata": {},
   "source": [
    "<!-- We can see\n",
    "\n",
    "route\n",
    "booking_origin\n",
    "flight_duration\n",
    "wants_extra_baggage\n",
    "length_of_stay\n",
    "are the top 5 features which are dependant with booking_complete feature -->"
   ]
  },
  {
   "cell_type": "code",
   "execution_count": 70,
   "metadata": {},
   "outputs": [],
   "source": [
    "\n",
    "#test train split\n",
    "\n",
    "from sklearn.model_selection import train_test_split\n",
    "\n",
    "# dataset split\n",
    "# creating a function for dataset split\n",
    "def dataset(X,y):\n",
    "    train_full_X, val_X, train_full_y, val_y = train_test_split(X, y,test_size=0.2,random_state = 0)\n",
    "\n",
    "# Use the same function above for the validation set\n",
    "    train_X, test_X, train_y, test_y = train_test_split(train_full_X, train_full_y, test_size=0.25,random_state = 0)\n",
    "    return (train_X, val_X, train_y, val_y)\n",
    "     "
   ]
  },
  {
   "cell_type": "code",
   "execution_count": 71,
   "metadata": {},
   "outputs": [],
   "source": [
    "from sklearn.preprocessing import MinMaxScaler\n",
    "\n",
    "def scale(X):\n",
    "    scaler = MinMaxScaler()\n",
    "    scaler.fit(X)\n",
    "    return X"
   ]
  },
  {
   "cell_type": "code",
   "execution_count": 72,
   "metadata": {},
   "outputs": [],
   "source": [
    "# Model 1 : Random forest classifier with top 6 features"
   ]
  },
  {
   "cell_type": "code",
   "execution_count": null,
   "metadata": {},
   "outputs": [],
   "source": []
  },
  {
   "cell_type": "code",
   "execution_count": 73,
   "metadata": {},
   "outputs": [
    {
     "name": "stdout",
     "output_type": "stream",
     "text": [
      "ACCURACY:  83.36\n",
      "AUC score:  0.5657818407546988\n"
     ]
    }
   ],
   "source": [
    "\n",
    "from sklearn.metrics import roc_auc_score\n",
    "from sklearn.metrics import accuracy_score\n",
    "from sklearn.ensemble import RandomForestClassifier\n",
    "\n",
    "\n",
    "\n",
    "#assigning the features under a list\n",
    "\n",
    "features=['route','booking_origin','flight_duration','wants_extra_baggage', 'length_of_stay','num_passengers']\n",
    "X= df[features]\n",
    "#one hot encoding\n",
    "X = pd.get_dummies(X, columns=features)\n",
    "X= scale(X)\n",
    "y= df.booking_complete       \n",
    "\n",
    "X_train,X_val,y_train,y_val= dataset(X,y)\n",
    "\n",
    "forest_model= RandomForestClassifier(random_state=1)\n",
    "forest_model.fit(X_train, y_train)\n",
    "preds= forest_model.predict(X_val)\n",
    "\n",
    "print('ACCURACY: ',accuracy_score(y_val,preds)*100)\n",
    "print('AUC score: ',roc_auc_score(y_val,preds))"
   ]
  },
  {
   "cell_type": "code",
   "execution_count": 75,
   "metadata": {},
   "outputs": [],
   "source": [
    "# Model 2 : Random forest classifier with all features"
   ]
  },
  {
   "cell_type": "code",
   "execution_count": 76,
   "metadata": {},
   "outputs": [
    {
     "name": "stdout",
     "output_type": "stream",
     "text": [
      "ACCURACY:  84.84\n",
      "AUC score:  0.5527766076821664\n"
     ]
    }
   ],
   "source": [
    "\n",
    "X= df.drop('booking_complete',axis=1)\n",
    "#one hot encoding\n",
    "X = pd.get_dummies(X)\n",
    "X= scale(X)\n",
    "y= df.booking_complete       \n",
    "\n",
    "X_train,X_val,y_train,y_val= dataset(X,y)\n",
    "\n",
    "forest_model= RandomForestClassifier(random_state=1)\n",
    "forest_model.fit(X_train, y_train)\n",
    "preds= forest_model.predict(X_val)\n",
    "\n",
    "print('ACCURACY: ',accuracy_score(y_val,preds)*100)\n",
    "print('AUC score: ',roc_auc_score(y_val,preds))\n",
    "     "
   ]
  },
  {
   "cell_type": "code",
   "execution_count": 77,
   "metadata": {},
   "outputs": [],
   "source": [
    "# Model 3 : XGB classifier with top 6 features"
   ]
  },
  {
   "cell_type": "code",
   "execution_count": 79,
   "metadata": {},
   "outputs": [
    {
     "name": "stdout",
     "output_type": "stream",
     "text": [
      "Defaulting to user installation because normal site-packages is not writeable\n",
      "Collecting xgboost\n",
      "  Obtaining dependency information for xgboost from https://files.pythonhosted.org/packages/24/ec/ad387100fa3cc2b9b81af0829b5ecfe75ec5bb19dd7c19d4fea06fb81802/xgboost-2.0.3-py3-none-win_amd64.whl.metadata\n",
      "  Downloading xgboost-2.0.3-py3-none-win_amd64.whl.metadata (2.0 kB)\n",
      "Requirement already satisfied: numpy in c:\\programdata\\anaconda3\\lib\\site-packages (from xgboost) (1.24.3)\n",
      "Requirement already satisfied: scipy in c:\\programdata\\anaconda3\\lib\\site-packages (from xgboost) (1.11.1)\n",
      "Downloading xgboost-2.0.3-py3-none-win_amd64.whl (99.8 MB)\n",
      "   ---------------------------------------- 0.0/99.8 MB ? eta -:--:--\n",
      "   ---------------------------------------- 0.0/99.8 MB ? eta -:--:--\n",
      "   ---------------------------------------- 0.0/99.8 MB 640.0 kB/s eta 0:02:36\n",
      "   ---------------------------------------- 0.1/99.8 MB 1.1 MB/s eta 0:01:32\n",
      "   ---------------------------------------- 0.5/99.8 MB 4.3 MB/s eta 0:00:24\n",
      "    --------------------------------------- 1.7/99.8 MB 9.8 MB/s eta 0:00:11\n",
      "   - -------------------------------------- 2.8/99.8 MB 13.0 MB/s eta 0:00:08\n",
      "   - -------------------------------------- 2.9/99.8 MB 13.3 MB/s eta 0:00:08\n",
      "   - -------------------------------------- 3.9/99.8 MB 13.2 MB/s eta 0:00:08\n",
      "   - -------------------------------------- 4.1/99.8 MB 13.0 MB/s eta 0:00:08\n",
      "   - -------------------------------------- 4.1/99.8 MB 13.0 MB/s eta 0:00:08\n",
      "   - -------------------------------------- 4.1/99.8 MB 13.0 MB/s eta 0:00:08\n",
      "   - -------------------------------------- 4.6/99.8 MB 9.8 MB/s eta 0:00:10\n",
      "   -- ------------------------------------- 6.6/99.8 MB 13.1 MB/s eta 0:00:08\n",
      "   -- ------------------------------------- 7.1/99.8 MB 13.0 MB/s eta 0:00:08\n",
      "   --- ------------------------------------ 7.7/99.8 MB 13.2 MB/s eta 0:00:07\n",
      "   --- ------------------------------------ 8.0/99.8 MB 13.1 MB/s eta 0:00:08\n",
      "   --- ------------------------------------ 8.0/99.8 MB 13.1 MB/s eta 0:00:08\n",
      "   --- ------------------------------------ 8.0/99.8 MB 13.1 MB/s eta 0:00:08\n",
      "   --- ------------------------------------ 8.2/99.8 MB 10.7 MB/s eta 0:00:09\n",
      "   --- ------------------------------------ 8.8/99.8 MB 11.1 MB/s eta 0:00:09\n",
      "   --- ------------------------------------ 9.2/99.8 MB 10.9 MB/s eta 0:00:09\n",
      "   --- ------------------------------------ 9.6/99.8 MB 10.8 MB/s eta 0:00:09\n",
      "   --- ------------------------------------ 9.9/99.8 MB 10.7 MB/s eta 0:00:09\n",
      "   ---- ----------------------------------- 10.1/99.8 MB 10.5 MB/s eta 0:00:09\n",
      "   ---- ----------------------------------- 10.2/99.8 MB 10.2 MB/s eta 0:00:09\n",
      "   ---- ----------------------------------- 12.1/99.8 MB 11.9 MB/s eta 0:00:08\n",
      "   ----- ---------------------------------- 12.7/99.8 MB 11.3 MB/s eta 0:00:08\n",
      "   ----- ---------------------------------- 13.2/99.8 MB 11.7 MB/s eta 0:00:08\n",
      "   ----- ---------------------------------- 13.5/99.8 MB 11.5 MB/s eta 0:00:08\n",
      "   ----- ---------------------------------- 13.5/99.8 MB 11.5 MB/s eta 0:00:08\n",
      "   ----- ---------------------------------- 13.5/99.8 MB 11.5 MB/s eta 0:00:08\n",
      "   ----- ---------------------------------- 14.6/99.8 MB 11.9 MB/s eta 0:00:08\n",
      "   ------ --------------------------------- 15.9/99.8 MB 11.7 MB/s eta 0:00:08\n",
      "   ------ --------------------------------- 16.4/99.8 MB 11.1 MB/s eta 0:00:08\n",
      "   ------ --------------------------------- 17.0/99.8 MB 11.3 MB/s eta 0:00:08\n",
      "   ------- -------------------------------- 17.5/99.8 MB 11.3 MB/s eta 0:00:08\n",
      "   ------- -------------------------------- 17.9/99.8 MB 10.9 MB/s eta 0:00:08\n",
      "   ------- -------------------------------- 18.7/99.8 MB 13.1 MB/s eta 0:00:07\n",
      "   ------- -------------------------------- 19.2/99.8 MB 13.1 MB/s eta 0:00:07\n",
      "   ------- -------------------------------- 19.8/99.8 MB 13.4 MB/s eta 0:00:06\n",
      "   -------- ------------------------------- 20.3/99.8 MB 14.2 MB/s eta 0:00:06\n",
      "   -------- ------------------------------- 20.9/99.8 MB 14.2 MB/s eta 0:00:06\n",
      "   -------- ------------------------------- 21.4/99.8 MB 13.9 MB/s eta 0:00:06\n",
      "   --------- ------------------------------ 22.5/99.8 MB 13.1 MB/s eta 0:00:06\n",
      "   --------- ------------------------------ 23.0/99.8 MB 13.1 MB/s eta 0:00:06\n",
      "   --------- ------------------------------ 23.6/99.8 MB 12.8 MB/s eta 0:00:06\n",
      "   --------- ------------------------------ 24.1/99.8 MB 15.2 MB/s eta 0:00:05\n",
      "   --------- ------------------------------ 24.6/99.8 MB 14.2 MB/s eta 0:00:06\n",
      "   ---------- ----------------------------- 25.2/99.8 MB 13.6 MB/s eta 0:00:06\n",
      "   ---------- ----------------------------- 25.7/99.8 MB 13.1 MB/s eta 0:00:06\n",
      "   ---------- ----------------------------- 26.2/99.8 MB 13.1 MB/s eta 0:00:06\n",
      "   ---------- ----------------------------- 26.8/99.8 MB 12.8 MB/s eta 0:00:06\n",
      "   ---------- ----------------------------- 27.3/99.8 MB 12.8 MB/s eta 0:00:06\n",
      "   ----------- ---------------------------- 27.9/99.8 MB 13.1 MB/s eta 0:00:06\n",
      "   ----------- ---------------------------- 28.4/99.8 MB 13.1 MB/s eta 0:00:06\n",
      "   ----------- ---------------------------- 28.9/99.8 MB 12.8 MB/s eta 0:00:06\n",
      "   ----------- ---------------------------- 29.5/99.8 MB 13.1 MB/s eta 0:00:06\n",
      "   ------------ --------------------------- 30.0/99.8 MB 13.1 MB/s eta 0:00:06\n",
      "   ------------ --------------------------- 30.6/99.8 MB 12.8 MB/s eta 0:00:06\n",
      "   ------------ --------------------------- 31.1/99.8 MB 13.1 MB/s eta 0:00:06\n",
      "   ------------ --------------------------- 31.7/99.8 MB 12.8 MB/s eta 0:00:06\n",
      "   ------------ --------------------------- 32.2/99.8 MB 12.8 MB/s eta 0:00:06\n",
      "   ------------- -------------------------- 32.7/99.8 MB 13.1 MB/s eta 0:00:06\n",
      "   ------------- -------------------------- 33.3/99.8 MB 12.8 MB/s eta 0:00:06\n",
      "   ------------- -------------------------- 33.8/99.8 MB 13.1 MB/s eta 0:00:06\n",
      "   ------------- -------------------------- 34.3/99.8 MB 13.1 MB/s eta 0:00:05\n",
      "   ------------- -------------------------- 34.9/99.8 MB 12.8 MB/s eta 0:00:06\n",
      "   -------------- ------------------------- 35.4/99.8 MB 12.8 MB/s eta 0:00:06\n",
      "   -------------- ------------------------- 36.0/99.8 MB 13.1 MB/s eta 0:00:05\n",
      "   -------------- ------------------------- 36.5/99.8 MB 12.8 MB/s eta 0:00:05\n",
      "   -------------- ------------------------- 37.0/99.8 MB 12.8 MB/s eta 0:00:05\n",
      "   --------------- ------------------------ 37.6/99.8 MB 13.1 MB/s eta 0:00:05\n",
      "   --------------- ------------------------ 38.1/99.8 MB 13.1 MB/s eta 0:00:05\n",
      "   --------------- ------------------------ 38.6/99.8 MB 13.1 MB/s eta 0:00:05\n",
      "   --------------- ------------------------ 39.2/99.8 MB 13.1 MB/s eta 0:00:05\n",
      "   --------------- ------------------------ 39.7/99.8 MB 13.1 MB/s eta 0:00:05\n",
      "   ---------------- ----------------------- 40.3/99.8 MB 12.8 MB/s eta 0:00:05\n",
      "   ---------------- ----------------------- 40.8/99.8 MB 13.1 MB/s eta 0:00:05\n",
      "   ---------------- ----------------------- 41.4/99.8 MB 12.8 MB/s eta 0:00:05\n",
      "   ---------------- ----------------------- 41.9/99.8 MB 13.1 MB/s eta 0:00:05\n",
      "   ----------------- ---------------------- 42.4/99.8 MB 13.1 MB/s eta 0:00:05\n",
      "   ----------------- ---------------------- 43.0/99.8 MB 13.1 MB/s eta 0:00:05\n",
      "   ----------------- ---------------------- 43.5/99.8 MB 12.8 MB/s eta 0:00:05\n",
      "   ----------------- ---------------------- 44.0/99.8 MB 13.1 MB/s eta 0:00:05\n",
      "   ----------------- ---------------------- 44.6/99.8 MB 12.8 MB/s eta 0:00:05\n",
      "   ------------------ --------------------- 45.1/99.8 MB 13.1 MB/s eta 0:00:05\n",
      "   ------------------ --------------------- 45.7/99.8 MB 13.1 MB/s eta 0:00:05\n",
      "   ------------------ --------------------- 46.2/99.8 MB 12.8 MB/s eta 0:00:05\n",
      "   ------------------ --------------------- 46.8/99.8 MB 12.8 MB/s eta 0:00:05\n",
      "   ------------------ --------------------- 47.3/99.8 MB 13.1 MB/s eta 0:00:05\n",
      "   ------------------- -------------------- 47.8/99.8 MB 13.1 MB/s eta 0:00:04\n",
      "   ------------------- -------------------- 48.4/99.8 MB 12.8 MB/s eta 0:00:05\n",
      "   ------------------- -------------------- 48.9/99.8 MB 13.1 MB/s eta 0:00:04\n",
      "   ------------------- -------------------- 49.5/99.8 MB 13.1 MB/s eta 0:00:04\n",
      "   -------------------- ------------------- 50.0/99.8 MB 12.8 MB/s eta 0:00:04\n",
      "   -------------------- ------------------- 50.5/99.8 MB 13.1 MB/s eta 0:00:04\n",
      "   -------------------- ------------------- 51.0/99.8 MB 12.8 MB/s eta 0:00:04\n",
      "   -------------------- ------------------- 51.6/99.8 MB 12.8 MB/s eta 0:00:04\n",
      "   -------------------- ------------------- 52.1/99.8 MB 12.8 MB/s eta 0:00:04\n",
      "   --------------------- ------------------ 52.7/99.8 MB 13.1 MB/s eta 0:00:04\n",
      "   --------------------- ------------------ 53.2/99.8 MB 12.8 MB/s eta 0:00:04\n",
      "   --------------------- ------------------ 53.7/99.8 MB 13.1 MB/s eta 0:00:04\n",
      "   --------------------- ------------------ 54.3/99.8 MB 12.8 MB/s eta 0:00:04\n",
      "   --------------------- ------------------ 54.8/99.8 MB 13.1 MB/s eta 0:00:04\n",
      "   ---------------------- ----------------- 55.4/99.8 MB 13.1 MB/s eta 0:00:04\n",
      "   ---------------------- ----------------- 55.9/99.8 MB 12.8 MB/s eta 0:00:04\n",
      "   ---------------------- ----------------- 56.5/99.8 MB 12.8 MB/s eta 0:00:04\n",
      "   ---------------------- ----------------- 57.0/99.8 MB 13.1 MB/s eta 0:00:04\n",
      "   ----------------------- ---------------- 57.5/99.8 MB 12.8 MB/s eta 0:00:04\n",
      "   ----------------------- ---------------- 58.1/99.8 MB 12.8 MB/s eta 0:00:04\n",
      "   ----------------------- ---------------- 58.6/99.8 MB 13.1 MB/s eta 0:00:04\n",
      "   ----------------------- ---------------- 59.1/99.8 MB 12.8 MB/s eta 0:00:04\n",
      "   ----------------------- ---------------- 59.7/99.8 MB 12.8 MB/s eta 0:00:04\n",
      "   ------------------------ --------------- 60.2/99.8 MB 13.1 MB/s eta 0:00:04\n",
      "   ------------------------ --------------- 60.8/99.8 MB 12.8 MB/s eta 0:00:04\n",
      "   ------------------------ --------------- 61.3/99.8 MB 12.8 MB/s eta 0:00:03\n",
      "   ------------------------ --------------- 61.8/99.8 MB 13.1 MB/s eta 0:00:03\n",
      "   ------------------------- -------------- 62.4/99.8 MB 12.8 MB/s eta 0:00:03\n",
      "   ------------------------- -------------- 62.9/99.8 MB 12.8 MB/s eta 0:00:03\n",
      "   ------------------------- -------------- 63.5/99.8 MB 13.1 MB/s eta 0:00:03\n",
      "   ------------------------- -------------- 64.0/99.8 MB 12.8 MB/s eta 0:00:03\n",
      "   ------------------------- -------------- 64.5/99.8 MB 12.8 MB/s eta 0:00:03\n",
      "   -------------------------- ------------- 65.1/99.8 MB 13.1 MB/s eta 0:00:03\n",
      "   -------------------------- ------------- 65.6/99.8 MB 12.8 MB/s eta 0:00:03\n",
      "   -------------------------- ------------- 66.2/99.8 MB 13.1 MB/s eta 0:00:03\n",
      "   -------------------------- ------------- 66.7/99.8 MB 13.1 MB/s eta 0:00:03\n",
      "   -------------------------- ------------- 67.2/99.8 MB 12.8 MB/s eta 0:00:03\n",
      "   --------------------------- ------------ 67.8/99.8 MB 12.8 MB/s eta 0:00:03\n",
      "   --------------------------- ------------ 68.3/99.8 MB 13.1 MB/s eta 0:00:03\n",
      "   --------------------------- ------------ 68.9/99.8 MB 13.1 MB/s eta 0:00:03\n",
      "   --------------------------- ------------ 69.4/99.8 MB 12.8 MB/s eta 0:00:03\n",
      "   ---------------------------- ----------- 69.9/99.8 MB 13.1 MB/s eta 0:00:03\n",
      "   ---------------------------- ----------- 70.5/99.8 MB 13.1 MB/s eta 0:00:03\n",
      "   ---------------------------- ----------- 71.0/99.8 MB 12.8 MB/s eta 0:00:03\n",
      "   ---------------------------- ----------- 71.5/99.8 MB 12.8 MB/s eta 0:00:03\n",
      "   ---------------------------- ----------- 72.1/99.8 MB 13.1 MB/s eta 0:00:03\n",
      "   ----------------------------- ---------- 72.6/99.8 MB 12.8 MB/s eta 0:00:03\n",
      "   ----------------------------- ---------- 73.2/99.8 MB 13.1 MB/s eta 0:00:03\n",
      "   ----------------------------- ---------- 73.7/99.8 MB 13.1 MB/s eta 0:00:02\n",
      "   ----------------------------- ---------- 74.3/99.8 MB 12.8 MB/s eta 0:00:02\n",
      "   ----------------------------- ---------- 74.8/99.8 MB 13.1 MB/s eta 0:00:02\n",
      "   ------------------------------ --------- 75.3/99.8 MB 13.1 MB/s eta 0:00:02\n",
      "   ------------------------------ --------- 75.8/99.8 MB 13.1 MB/s eta 0:00:02\n",
      "   ------------------------------ --------- 76.3/99.8 MB 12.8 MB/s eta 0:00:02\n",
      "   ------------------------------ --------- 77.0/99.8 MB 12.8 MB/s eta 0:00:02\n",
      "   ------------------------------- -------- 77.5/99.8 MB 13.1 MB/s eta 0:00:02\n",
      "   ------------------------------- -------- 78.0/99.8 MB 13.1 MB/s eta 0:00:02\n",
      "   ------------------------------- -------- 78.6/99.8 MB 12.8 MB/s eta 0:00:02\n",
      "   ------------------------------- -------- 79.1/99.8 MB 12.8 MB/s eta 0:00:02\n",
      "   ------------------------------- -------- 79.6/99.8 MB 13.1 MB/s eta 0:00:02\n",
      "   -------------------------------- ------- 80.2/99.8 MB 13.1 MB/s eta 0:00:02\n",
      "   -------------------------------- ------- 80.7/99.8 MB 13.1 MB/s eta 0:00:02\n",
      "   -------------------------------- ------- 81.3/99.8 MB 13.1 MB/s eta 0:00:02\n",
      "   -------------------------------- ------- 81.3/99.8 MB 13.1 MB/s eta 0:00:02\n",
      "   -------------------------------- ------- 81.3/99.8 MB 13.1 MB/s eta 0:00:02\n",
      "   -------------------------------- ------- 81.3/99.8 MB 11.3 MB/s eta 0:00:02\n",
      "   --------------------------------- ------ 83.3/99.8 MB 12.6 MB/s eta 0:00:02\n",
      "   --------------------------------- ------ 84.1/99.8 MB 13.1 MB/s eta 0:00:02\n",
      "   --------------------------------- ------ 84.6/99.8 MB 12.8 MB/s eta 0:00:02\n",
      "   ---------------------------------- ----- 85.2/99.8 MB 12.8 MB/s eta 0:00:02\n",
      "   ---------------------------------- ----- 85.7/99.8 MB 13.1 MB/s eta 0:00:02\n",
      "   ---------------------------------- ----- 86.3/99.8 MB 12.8 MB/s eta 0:00:02\n",
      "   ---------------------------------- ----- 87.0/99.8 MB 12.8 MB/s eta 0:00:01\n",
      "   ----------------------------------- ---- 87.6/99.8 MB 12.8 MB/s eta 0:00:01\n",
      "   ----------------------------------- ---- 88.3/99.8 MB 12.8 MB/s eta 0:00:01\n",
      "   ----------------------------------- ---- 88.8/99.8 MB 12.8 MB/s eta 0:00:01\n",
      "   ----------------------------------- ---- 89.4/99.8 MB 13.1 MB/s eta 0:00:01\n",
      "   ------------------------------------ --- 89.9/99.8 MB 13.1 MB/s eta 0:00:01\n",
      "   ------------------------------------ --- 90.4/99.8 MB 13.1 MB/s eta 0:00:01\n",
      "   ------------------------------------ --- 91.0/99.8 MB 13.1 MB/s eta 0:00:01\n",
      "   ------------------------------------ --- 91.5/99.8 MB 15.2 MB/s eta 0:00:01\n",
      "   ------------------------------------ --- 92.1/99.8 MB 14.6 MB/s eta 0:00:01\n",
      "   ------------------------------------- -- 92.6/99.8 MB 14.6 MB/s eta 0:00:01\n",
      "   ------------------------------------- -- 93.3/99.8 MB 13.4 MB/s eta 0:00:01\n",
      "   ------------------------------------- -- 93.8/99.8 MB 13.1 MB/s eta 0:00:01\n",
      "   ------------------------------------- -- 94.4/99.8 MB 12.8 MB/s eta 0:00:01\n",
      "   -------------------------------------- - 94.9/99.8 MB 12.8 MB/s eta 0:00:01\n",
      "   -------------------------------------- - 95.4/99.8 MB 12.8 MB/s eta 0:00:01\n",
      "   -------------------------------------- - 95.9/99.8 MB 12.8 MB/s eta 0:00:01\n",
      "   -------------------------------------- - 96.5/99.8 MB 12.8 MB/s eta 0:00:01\n",
      "   -------------------------------------- - 97.0/99.8 MB 13.1 MB/s eta 0:00:01\n",
      "   ---------------------------------------  97.6/99.8 MB 12.8 MB/s eta 0:00:01\n",
      "   ---------------------------------------  98.1/99.8 MB 12.8 MB/s eta 0:00:01\n",
      "   ---------------------------------------  98.6/99.8 MB 13.1 MB/s eta 0:00:01\n",
      "   ---------------------------------------  99.2/99.8 MB 12.8 MB/s eta 0:00:01\n",
      "   ---------------------------------------  99.7/99.8 MB 13.1 MB/s eta 0:00:01\n",
      "   ---------------------------------------  99.7/99.8 MB 12.8 MB/s eta 0:00:01\n",
      "   ---------------------------------------  99.7/99.8 MB 12.8 MB/s eta 0:00:01\n",
      "   ---------------------------------------  99.7/99.8 MB 12.8 MB/s eta 0:00:01\n",
      "   ---------------------------------------  99.7/99.8 MB 12.8 MB/s eta 0:00:01\n",
      "   ---------------------------------------  99.7/99.8 MB 12.8 MB/s eta 0:00:01\n",
      "   ---------------------------------------- 99.8/99.8 MB 8.4 MB/s eta 0:00:00\n",
      "Installing collected packages: xgboost\n",
      "Successfully installed xgboost-2.0.3\n",
      "Note: you may need to restart the kernel to use updated packages.\n"
     ]
    }
   ],
   "source": [
    "pip install xgboost"
   ]
  },
  {
   "cell_type": "code",
   "execution_count": 80,
   "metadata": {},
   "outputs": [
    {
     "name": "stdout",
     "output_type": "stream",
     "text": [
      "ACCURACY:  84.72\n",
      "AUC score:  0.5189398567740671\n"
     ]
    }
   ],
   "source": [
    "\n",
    "from xgboost import XGBClassifier\n",
    "\n",
    "X= df[features]\n",
    "\n",
    "#one hot encoding\n",
    "X = pd.get_dummies(X, columns=features)\n",
    "X= scale(X)\n",
    "\n",
    "y= df.booking_complete    \n",
    "\n",
    "X_train,X_val,y_train,y_val= dataset(X,y)\n",
    "xgb_model = XGBClassifier()\n",
    "\n",
    "xgb_model.fit(X_train, y_train)\n",
    "prediction_xgb = xgb_model.predict(X_val)\n",
    "print('ACCURACY: ',accuracy_score(y_val, prediction_xgb)*100)\n",
    "print('AUC score: ',roc_auc_score(y_val,prediction_xgb))"
   ]
  },
  {
   "cell_type": "code",
   "execution_count": 81,
   "metadata": {},
   "outputs": [],
   "source": [
    "# Model 4 : XGB classifier with all features"
   ]
  },
  {
   "cell_type": "code",
   "execution_count": 82,
   "metadata": {
    "scrolled": true
   },
   "outputs": [
    {
     "name": "stdout",
     "output_type": "stream",
     "text": [
      "ACCURACY:  84.66\n",
      "AUC score:  0.5354228242704853\n"
     ]
    }
   ],
   "source": [
    "X= df.drop('booking_complete',axis=1)\n",
    "#one hot encoding\n",
    "X = pd.get_dummies(X)\n",
    "X= scale(X)\n",
    "y= df.booking_complete \n",
    "\n",
    "X_train,X_val,y_train,y_val= dataset(X,y)\n",
    "\n",
    "\n",
    "xgb_model = XGBClassifier()\n",
    "xgb_model.fit(X_train, y_train)\n",
    "prediction_xgb = xgb_model.predict(X_val)\n",
    "print('ACCURACY: ',accuracy_score(y_val, prediction_xgb)*100)\n",
    "print('AUC score: ',roc_auc_score(y_val,prediction_xgb))"
   ]
  },
  {
   "cell_type": "code",
   "execution_count": 85,
   "metadata": {},
   "outputs": [],
   "source": [
    "from sklearn import tree"
   ]
  },
  {
   "cell_type": "code",
   "execution_count": 87,
   "metadata": {},
   "outputs": [
    {
     "name": "stdout",
     "output_type": "stream",
     "text": [
      "ACCURACY:  78.95\n",
      "AUC score:  0.5827067189031613\n"
     ]
    }
   ],
   "source": [
    "\n",
    "X= df.drop('booking_complete',axis=1)\n",
    "#one hot encoding\n",
    "X = pd.get_dummies(X)\n",
    "X= scale(X)\n",
    "y= df.booking_complete \n",
    "\n",
    "X_train,X_val,y_train,y_val= dataset(X,y)\n",
    "\n",
    "DT=tree.DecisionTreeClassifier()\n",
    "DT.fit(X_train,y_train)\n",
    "prediction_DT = DT.predict(X_val)\n",
    "print('ACCURACY: ',accuracy_score(y_val, prediction_DT)*100)\n",
    "print('AUC score: ',roc_auc_score(y_val,prediction_DT))"
   ]
  },
  {
   "cell_type": "code",
   "execution_count": null,
   "metadata": {},
   "outputs": [],
   "source": [
    "from sklearn.svm import SVC\n",
    "svn = SVC()\n",
    "# Assuming y_train is one-hot encoded\n",
    "X_train,X_val,y_train,y_val= dataset(X,y)\n",
    "# y_train_labels = np.argmax(y_train, axis=1)\n",
    "\n",
    "svn.fit(X_train, y_train)\n",
    "prediction_svn = svn.predict(X_val)\n",
    "print('ACCURACY: ',accuracy_score(y_val, svn)*100)\n",
    "print('AUC score: ',roc_auc_score(y_val,svn))"
   ]
  },
  {
   "cell_type": "code",
   "execution_count": 83,
   "metadata": {},
   "outputs": [],
   "source": [
    "# # Finalizing random forest model with all features as final model, as it has goos accuracy and higher auc score compared to other models\n",
    "\n",
    "# Validating with test data set"
   ]
  },
  {
   "cell_type": "code",
   "execution_count": 84,
   "metadata": {},
   "outputs": [
    {
     "name": "stdout",
     "output_type": "stream",
     "text": [
      "ACCURACY:  85.37\n",
      "AUC score:  0.5678474780954598\n"
     ]
    }
   ],
   "source": [
    "\n",
    "X= df.drop('booking_complete',axis=1)\n",
    "#one hot encoding\n",
    "X = pd.get_dummies(X)\n",
    "X= scale(X)\n",
    "y= df.booking_complete       \n",
    "\n",
    "train_full_X,test_X, train_full_y, test_y = train_test_split(X, y,test_size=0.2,random_state = 0)\n",
    "\n",
    "forest_model= RandomForestClassifier(random_state=1)\n",
    "forest_model.fit(train_full_X, train_full_y)\n",
    "preds= forest_model.predict(test_X)\n",
    "\n",
    "print('ACCURACY: ',accuracy_score(test_y,preds)*100)\n",
    "print('AUC score: ',roc_auc_score(test_y,preds))\n",
    "     "
   ]
  },
  {
   "cell_type": "markdown",
   "metadata": {},
   "source": []
  },
  {
   "cell_type": "code",
   "execution_count": null,
   "metadata": {},
   "outputs": [],
   "source": []
  }
 ],
 "metadata": {
  "kernelspec": {
   "display_name": "Python 3 (ipykernel)",
   "language": "python",
   "name": "python3"
  },
  "language_info": {
   "codemirror_mode": {
    "name": "ipython",
    "version": 3
   },
   "file_extension": ".py",
   "mimetype": "text/x-python",
   "name": "python",
   "nbconvert_exporter": "python",
   "pygments_lexer": "ipython3",
   "version": "3.11.5"
  },
  "vscode": {
   "interpreter": {
    "hash": "4f7924c4c56b083e0e50eadfe7ef592a7a8ef70df33a0047f82280e6be1afe15"
   }
  }
 },
 "nbformat": 4,
 "nbformat_minor": 2
}
